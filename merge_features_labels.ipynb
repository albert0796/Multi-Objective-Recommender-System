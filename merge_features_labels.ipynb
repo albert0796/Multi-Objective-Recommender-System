{
 "cells": [
  {
   "cell_type": "code",
   "execution_count": 1,
   "metadata": {},
   "outputs": [],
   "source": [
    "import pandas as pd"
   ]
  },
  {
   "cell_type": "code",
   "execution_count": 2,
   "metadata": {},
   "outputs": [],
   "source": [
    "df_labels_output = pd.read_parquet(\"data/labels.parquet\")\n",
    "df_candidates = pd.read_parquet(\"data/candidates_features_engineering.parquet\")"
   ]
  },
  {
   "cell_type": "code",
   "execution_count": 3,
   "metadata": {},
   "outputs": [],
   "source": [
    "df_merged = pd.concat([df_candidates, df_labels_output], axis=1)\n"
   ]
  },
  {
   "cell_type": "code",
   "execution_count": 4,
   "metadata": {},
   "outputs": [],
   "source": [
    "df_merged.to_parquet(\"data/merge_features_labels.parquet\", index=False)"
   ]
  },
  {
   "cell_type": "code",
   "execution_count": 2,
   "metadata": {},
   "outputs": [
    {
     "name": "stdout",
     "output_type": "stream",
     "text": [
      "    session      aid  session_length  session_click_ratio  session_cart_ratio  \\\n",
      "0  11098528    11830               1                  1.0                 0.0   \n",
      "1  11098528   588923               1                  1.0                 0.0   \n",
      "2  11098528  1732105               1                  1.0                 0.0   \n",
      "3  11098528   571762               1                  1.0                 0.0   \n",
      "4  11098528   884502               1                  1.0                 0.0   \n",
      "\n",
      "   session_order_ratio  session_last_click_aid  session_last_atc_aid  \\\n",
      "0                  0.0                 11830.0                   NaN   \n",
      "1                  0.0                 11830.0                   NaN   \n",
      "2                  0.0                 11830.0                   NaN   \n",
      "3                  0.0                 11830.0                   NaN   \n",
      "4                  0.0                 11830.0                   NaN   \n",
      "\n",
      "   session_last_order_aid  session_last_click_timestamp  ...  \\\n",
      "0                     NaN                  1.661119e+12  ...   \n",
      "1                     NaN                  1.661119e+12  ...   \n",
      "2                     NaN                  1.661119e+12  ...   \n",
      "3                     NaN                  1.661119e+12  ...   \n",
      "4                     NaN                  1.661119e+12  ...   \n",
      "\n",
      "   session_item_last_interaction_type_orders  session_item_abs_click_hots  \\\n",
      "0                                          0                    -0.533348   \n",
      "1                                          0                    -1.515251   \n",
      "2                                          0                    -1.515057   \n",
      "3                                          0                    -1.388091   \n",
      "4                                          0                    -1.569706   \n",
      "\n",
      "   session_item_abs_atc_hots  session_item_abs_order_hots  \\\n",
      "0                  -1.319599                    -1.128392   \n",
      "1                  -1.229046                    -1.141343   \n",
      "2                  -1.371863                    -1.138158   \n",
      "3                  -1.169720                    -1.128151   \n",
      "4                  -1.207656                    -1.118873   \n",
      "\n",
      "   session_item_abs_click_time  session_item_abs_atc_time  \\\n",
      "0                 9.900078e+08                        NaN   \n",
      "1                          NaN                        NaN   \n",
      "2                          NaN                        NaN   \n",
      "3                          NaN                        NaN   \n",
      "4                          NaN                        NaN   \n",
      "\n",
      "   session_item_abs_order_time  clicks  carts  orders  \n",
      "0                          NaN       0      0       1  \n",
      "1                          NaN       0      0       0  \n",
      "2                          NaN       0      0       0  \n",
      "3                          NaN       0      0       0  \n",
      "4                          NaN       0      0       0  \n",
      "\n",
      "[5 rows x 36 columns]\n"
     ]
    }
   ],
   "source": [
    "output = pd.read_parquet(\"data/merge_features_labels.parquet\")\n",
    "print(output.head())"
   ]
  },
  {
   "cell_type": "code",
   "execution_count": 3,
   "metadata": {},
   "outputs": [
    {
     "name": "stdout",
     "output_type": "stream",
     "text": [
      "Index(['session', 'aid', 'session_length', 'session_click_ratio',\n",
      "       'session_cart_ratio', 'session_order_ratio', 'session_last_click_aid',\n",
      "       'session_last_atc_aid', 'session_last_order_aid',\n",
      "       'session_last_click_timestamp', 'session_last_atc_timestamp',\n",
      "       'session_last_order_timestamp', 'item_popularity', 'item_cart_count',\n",
      "       'item_order_count', 'item_conversion_rate', 'item_atc_rate',\n",
      "       'item_atc_conversion_rate', 'item_recent_clicks', 'item_recent_carts',\n",
      "       'item_recent_orders', 'item_type_mean', 'session_item_click_count',\n",
      "       'session_item_cart_count', 'session_item_order_count',\n",
      "       'session_item_last_interaction_type_clicks',\n",
      "       'session_item_last_interaction_type_orders',\n",
      "       'session_item_abs_click_hots', 'session_item_abs_atc_hots',\n",
      "       'session_item_abs_order_hots', 'session_item_abs_click_time',\n",
      "       'session_item_abs_atc_time', 'session_item_abs_order_time', 'clicks',\n",
      "       'carts', 'orders'],\n",
      "      dtype='object')\n"
     ]
    }
   ],
   "source": [
    "print(output.columns)"
   ]
  },
  {
   "cell_type": "code",
   "execution_count": null,
   "metadata": {},
   "outputs": [],
   "source": []
  }
 ],
 "metadata": {
  "kernelspec": {
   "display_name": "recsys",
   "language": "python",
   "name": "python3"
  },
  "language_info": {
   "codemirror_mode": {
    "name": "ipython",
    "version": 3
   },
   "file_extension": ".py",
   "mimetype": "text/x-python",
   "name": "python",
   "nbconvert_exporter": "python",
   "pygments_lexer": "ipython3",
   "version": "3.13.2"
  }
 },
 "nbformat": 4,
 "nbformat_minor": 2
}
